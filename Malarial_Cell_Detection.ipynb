{
  "cells": [
    {
      "cell_type": "code",
      "execution_count": null,
      "metadata": {
        "id": "wBnFZeyql834"
      },
      "outputs": [],
      "source": [
        "import numpy as np\n",
        "import pandas as pd\n",
        "import matplotlib.pyplot as plt\n",
        "import os\n",
        "import cv2\n",
        "from PIL import Image\n",
        "from tensorflow import keras\n",
        "import tensorflow.keras.layers as k\n",
        "from tqdm.notebook import tqdm\n",
        "from sklearn.model_selection import train_test_split\n",
        "from sklearn.metrics import accuracy_score\n",
        "from keras.utils import to_categorical"
      ]
    },
    {
      "cell_type": "code",
      "execution_count": null,
      "metadata": {
        "colab": {
          "base_uri": "https://localhost:8080/"
        },
        "id": "gJgLQlNKNVh5",
        "outputId": "2875a027-1178-4fbe-9817-083fe566f0a5"
      },
      "outputs": [
        {
          "output_type": "stream",
          "name": "stdout",
          "text": [
            "Requirement already satisfied: keras-preprocessing in /usr/local/lib/python3.10/dist-packages (1.1.2)\n",
            "Requirement already satisfied: numpy>=1.9.1 in /usr/local/lib/python3.10/dist-packages (from keras-preprocessing) (1.25.2)\n",
            "Requirement already satisfied: six>=1.9.0 in /usr/local/lib/python3.10/dist-packages (from keras-preprocessing) (1.16.0)\n"
          ]
        }
      ],
      "source": [
        "!pip install keras-preprocessing"
      ]
    },
    {
      "cell_type": "markdown",
      "metadata": {
        "id": "dWqmpZjQpexT"
      },
      "source": [
        "##Data"
      ]
    },
    {
      "cell_type": "code",
      "execution_count": null,
      "metadata": {
        "id": "6-eW8-iOmvJP"
      },
      "outputs": [],
      "source": [
        "from tensorflow.keras.preprocessing.image import ImageDataGenerator, load_img"
      ]
    },
    {
      "cell_type": "code",
      "execution_count": null,
      "metadata": {
        "colab": {
          "base_uri": "https://localhost:8080/",
          "height": 81
        },
        "id": "tuK4kXM4BzP2",
        "outputId": "20d2ac40-e9e6-4bd6-e985-ab02ab5d975c"
      },
      "outputs": [
        {
          "output_type": "execute_result",
          "data": {
            "text/plain": [
              "<PIL.Image.Image image mode=RGB size=64x64>"
            ],
            "image/png": "[encoded data removed]"
          },
          "metadata": {},
          "execution_count": 22
        }
      ],
      "source": [
        "load_img(\"/content/drive/MyDrive/Malrial Cell dataset/Malarial Cell Image Data/cell_images/Parasitized/C100P61ThinF_IMG_20150918_144104_cell_163.png\",target_size=(64,64))"
      ]
    },
    {
      "cell_type": "code",
      "source": [
        "load_img(\"/content/drive/MyDrive/Malrial Cell dataset/Malarial Cell Image Data/cell_images/Uninfected/C102P63ThinF_IMG_20150918_161826_cell_19.png\",target_size=(64,64))"
      ],
      "metadata": {
        "colab": {
          "base_uri": "https://localhost:8080/",
          "height": 81
        },
        "id": "h5ROEIoctnsu",
        "outputId": "043c99b3-13f4-4441-d090-e23516d4f630"
      },
      "execution_count": null,
      "outputs": [
        {
          "output_type": "execute_result",
          "data": {
            "text/plain": [
              "<PIL.Image.Image image mode=RGB size=64x64>"
            ],
            "image/png": "[encoded data removed]"
          },
          "metadata": {},
          "execution_count": 58
        }
      ]
    },
    {
      "cell_type": "code",
      "execution_count": null,
      "metadata": {
        "id": "oN2m5mPIxl1e"
      },
      "outputs": [],
      "source": [
        "os.environ['KERAS_BACKEND']='tensorflow'\n",
        "np.random.seed(312)"
      ]
    },
    {
      "cell_type": "code",
      "execution_count": null,
      "metadata": {
        "id": "GNnFq8Fb9K18"
      },
      "outputs": [],
      "source": [
        "image_dir=\"/content/drive/MyDrive/Malrial Cell dataset/Malarial Cell Image Data/cell_images\"\n",
        "size=64\n",
        "dataset=[]\n",
        "label=[]"
      ]
    },
    {
      "cell_type": "code",
      "source": [
        "parasitized_img=os.listdir(image_dir+\"/Parasitized\")\n",
        "parasitized_img=parasitized_img[:3000]\n",
        "for i, img_name in enumerate(tqdm(parasitized_img)):\n",
        "    if(img_name.split('.')[1]=='png'):\n",
        "       image=cv2.imread(image_dir+\"/Parasitized/\"+img_name)\n",
        "       image=Image.fromarray(image,'RGB')\n",
        "       image=image.resize((size,size))\n",
        "       dataset.append(np.array(image))\n",
        "       label.append(0)"
      ],
      "metadata": {
        "colab": {
          "base_uri": "https://localhost:8080/",
          "height": 49,
          "referenced_widgets": [
            "fc6073d4ddbf426390a1e11d0678ef03",
            "52b50daba2dc42a2a5edcb04641dbb0a",
            "d1f0b5c9cb3343c6857aa120788b5d48",
            "88a137699e61469c8c20e2d871f902fa",
            "754013d6b6d444ec9ee3f62447bb4955",
            "2c75461c3fd84e0d9139f70b37af80f5",
            "995169189ca8441794d3ed238221f6cb",
            "f9b910b63b4b4725873ce1bf0c5d1df8",
            "3bc6afdfbe6948719f42e951267e1d71",
            "ea120095e7a449559197ee5ec26d7b43",
            "22765f7b227e4b16a0a0d9620e61948a"
          ]
        },
        "id": "Ribuw7dhBgLK",
        "outputId": "a1c01c0d-19a4-4800-826b-2fe23061e8d6"
      },
      "execution_count": null,
      "outputs": [
        {
          "output_type": "display_data",
          "data": {
            "text/plain": [
              "  0%|          | 0/3000 [00:00<?, ?it/s]"
            ],
            "application/vnd.jupyter.widget-view+json": {
              "version_major": 2,
              "version_minor": 0,
              "model_id": "fc6073d4ddbf426390a1e11d0678ef03"
            }
          },
          "metadata": {}
        }
      ]
    },
    {
      "cell_type": "code",
      "source": [
        "len(parasitized_img)\n"
      ],
      "metadata": {
        "colab": {
          "base_uri": "https://localhost:8080/"
        },
        "id": "yc03BnFGBiZK",
        "outputId": "e5863245-a0b0-41e8-cfff-a4607362422d"
      },
      "execution_count": null,
      "outputs": [
        {
          "output_type": "execute_result",
          "data": {
            "text/plain": [
              "3000"
            ]
          },
          "metadata": {},
          "execution_count": 26
        }
      ]
    },
    {
      "cell_type": "code",
      "source": [
        "Uninfected_img=os.listdir(image_dir+\"/Uninfected\")\n",
        "Uninfected_img=Uninfected_img[:3000]\n",
        "for i, img_name in enumerate(tqdm(Uninfected_img)):\n",
        "    if(img_name.split('.')[1]=='png'):\n",
        "       image=cv2.imread(image_dir+\"/Uninfected/\"+img_name)\n",
        "       image=Image.fromarray(image,'RGB')\n",
        "       image=image.resize((size,size))\n",
        "       dataset.append(np.array(image))\n",
        "       label.append(1)"
      ],
      "metadata": {
        "colab": {
          "base_uri": "https://localhost:8080/",
          "height": 49,
          "referenced_widgets": [
            "e0982164b12e44e3982a0f6ddebbf0ab",
            "18dae18a891a47c8bd27b5543b166337",
            "454352550f4a4c6c93e9ed1bf1b499b2",
            "db4cd0c458a54883bf796fecd534bb49",
            "446350d2709c4188a09a9105a60e4870",
            "0f688bc4c1da4e1b806dd16e905745c0",
            "374b0e8a061240deaf8a25f0059c9d6c",
            "d4b3324194d14e38abf17fc250149909",
            "7eba85fd957a433dac8a6e60b38b4621",
            "b4efe21f3e0544d8b7a6ec4ae10fa818",
            "99e601b115524ec690cee0965c215d8c"
          ]
        },
        "id": "OucGcsa9Jlr1",
        "outputId": "6476f6e6-bcbd-45ba-ac65-b6486a6b89d3"
      },
      "execution_count": null,
      "outputs": [
        {
          "output_type": "display_data",
          "data": {
            "text/plain": [
              "  0%|          | 0/3000 [00:00<?, ?it/s]"
            ],
            "application/vnd.jupyter.widget-view+json": {
              "version_major": 2,
              "version_minor": 0,
              "model_id": "e0982164b12e44e3982a0f6ddebbf0ab"
            }
          },
          "metadata": {}
        }
      ]
    },
    {
      "cell_type": "code",
      "execution_count": null,
      "metadata": {
        "id": "0jfBiQHwU9uN",
        "colab": {
          "base_uri": "https://localhost:8080/"
        },
        "outputId": "5889bcf3-a0c7-404f-ddec-58848b489876"
      },
      "outputs": [
        {
          "output_type": "execute_result",
          "data": {
            "text/plain": [
              "3000"
            ]
          },
          "metadata": {},
          "execution_count": 28
        }
      ],
      "source": [
        "len(parasitized_img)"
      ]
    },
    {
      "cell_type": "code",
      "source": [
        "\"C91P52ThinF_IMG_20150821_124937_cell_218.png\".split('.')[1]"
      ],
      "metadata": {
        "colab": {
          "base_uri": "https://localhost:8080/",
          "height": 35
        },
        "id": "BLFqcU4pFrmw",
        "outputId": "571dfecd-53e7-4098-bc6b-400aba205c2b"
      },
      "execution_count": null,
      "outputs": [
        {
          "output_type": "execute_result",
          "data": {
            "text/plain": [
              "'png'"
            ],
            "application/vnd.google.colaboratory.intrinsic+json": {
              "type": "string"
            }
          },
          "metadata": {},
          "execution_count": 29
        }
      ]
    },
    {
      "cell_type": "code",
      "source": [
        "a=cv2.imread(\"/content/drive/MyDrive/Malrial Cell dataset/Malarial Cell Image Data/cell_images/Parasitized/C100P61ThinF_IMG_20150918_144104_cell_163.png\")"
      ],
      "metadata": {
        "id": "9XPoBdoPGmbG"
      },
      "execution_count": null,
      "outputs": []
    },
    {
      "cell_type": "code",
      "source": [
        "a"
      ],
      "metadata": {
        "colab": {
          "base_uri": "https://localhost:8080/",
          "height": 248
        },
        "id": "U6zYECHfI9oi",
        "outputId": "1c2c5335-3f74-4b61-bfb6-1b8f926da750"
      },
      "execution_count": null,
      "outputs": [
        {
          "output_type": "execute_result",
          "data": {
            "text/plain": [
              "array([[[0, 0, 0],\n",
              "        [0, 0, 0],\n",
              "        [0, 0, 0],\n",
              "        ...,\n",
              "        [0, 0, 0],\n",
              "        [0, 0, 0],\n",
              "        [0, 0, 0]],\n",
              "\n",
              "       [[0, 0, 0],\n",
              "        [0, 0, 0],\n",
              "        [0, 0, 0],\n",
              "        ...,\n",
              "        [0, 0, 0],\n",
              "        [0, 0, 0],\n",
              "        [0, 0, 0]],\n",
              "\n",
              "       [[0, 0, 0],\n",
              "        [0, 0, 0],\n",
              "        [0, 0, 0],\n",
              "        ...,\n",
              "        [0, 0, 0],\n",
              "        [0, 0, 0],\n",
              "        [0, 0, 0]],\n",
              "\n",
              "       ...,\n",
              "\n",
              "       [[0, 0, 0],\n",
              "        [0, 0, 0],\n",
              "        [0, 0, 0],\n",
              "        ...,\n",
              "        [0, 0, 0],\n",
              "        [0, 0, 0],\n",
              "        [0, 0, 0]],\n",
              "\n",
              "       [[0, 0, 0],\n",
              "        [0, 0, 0],\n",
              "        [0, 0, 0],\n",
              "        ...,\n",
              "        [0, 0, 0],\n",
              "        [0, 0, 0],\n",
              "        [0, 0, 0]],\n",
              "\n",
              "       [[0, 0, 0],\n",
              "        [0, 0, 0],\n",
              "        [0, 0, 0],\n",
              "        ...,\n",
              "        [0, 0, 0],\n",
              "        [0, 0, 0],\n",
              "        [0, 0, 0]]], dtype=uint8)"
            ],
            "text/html": [
              "<style>\n",
              "      .ndarray_repr .ndarray_raw_data {\n",
              "        display: none;\n",
              "      }\n",
              "      .ndarray_repr.show_array .ndarray_raw_data {\n",
              "        display: block;\n",
              "      }\n",
              "      .ndarray_repr.show_array .ndarray_image_preview {\n",
              "        display: none;\n",
              "      }\n",
              "      </style>\n",
              "      <div id=\"id-fe8c493a-a063-4375-b162-fcdf583477bd\" class=\"ndarray_repr\"><pre>ndarray (208, 148, 3) <button style=\"padding: 0 2px;\">show data</button></pre><img src=\"data:image/png;base64,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\" class=\"ndarray_image_preview\" /><pre class=\"ndarray_raw_data\">array([[[0, 0, 0],\n",
              "        [0, 0, 0],\n",
              "        [0, 0, 0],\n",
              "        ...,\n",
              "        [0, 0, 0],\n",
              "        [0, 0, 0],\n",
              "        [0, 0, 0]],\n",
              "\n",
              "       [[0, 0, 0],\n",
              "        [0, 0, 0],\n",
              "        [0, 0, 0],\n",
              "        ...,\n",
              "        [0, 0, 0],\n",
              "        [0, 0, 0],\n",
              "        [0, 0, 0]],\n",
              "\n",
              "       [[0, 0, 0],\n",
              "        [0, 0, 0],\n",
              "        [0, 0, 0],\n",
              "        ...,\n",
              "        [0, 0, 0],\n",
              "        [0, 0, 0],\n",
              "        [0, 0, 0]],\n",
              "\n",
              "       ...,\n",
              "\n",
              "       [[0, 0, 0],\n",
              "        [0, 0, 0],\n",
              "        [0, 0, 0],\n",
              "        ...,\n",
              "        [0, 0, 0],\n",
              "        [0, 0, 0],\n",
              "        [0, 0, 0]],\n",
              "\n",
              "       [[0, 0, 0],\n",
              "        [0, 0, 0],\n",
              "        [0, 0, 0],\n",
              "        ...,\n",
              "        [0, 0, 0],\n",
              "        [0, 0, 0],\n",
              "        [0, 0, 0]],\n",
              "\n",
              "       [[0, 0, 0],\n",
              "        [0, 0, 0],\n",
              "        [0, 0, 0],\n",
              "        ...,\n",
              "        [0, 0, 0],\n",
              "        [0, 0, 0],\n",
              "        [0, 0, 0]]], dtype=uint8)</pre></div><script>\n",
              "      (() => {\n",
              "      const titles = ['show data', 'hide data'];\n",
              "      let index = 0\n",
              "      document.querySelector('#id-fe8c493a-a063-4375-b162-fcdf583477bd button').onclick = (e) => {\n",
              "        document.querySelector('#id-fe8c493a-a063-4375-b162-fcdf583477bd').classList.toggle('show_array');\n",
              "        index = (++index) % 2;\n",
              "        document.querySelector('#id-fe8c493a-a063-4375-b162-fcdf583477bd button').textContent = titles[index];\n",
              "        e.preventDefault();\n",
              "        e.stopPropagation();\n",
              "      }\n",
              "      })();\n",
              "    </script>"
            ]
          },
          "metadata": {},
          "execution_count": 31
        }
      ]
    },
    {
      "cell_type": "code",
      "source": [
        "xtrain,xtest,ytrain,ytest=train_test_split(dataset,to_categorical(np.array(label)),test_size=0.2,random_state=0)"
      ],
      "metadata": {
        "id": "EfPXD7tjM77r"
      },
      "execution_count": null,
      "outputs": []
    },
    {
      "cell_type": "markdown",
      "source": [
        "##CNN Model Architecture"
      ],
      "metadata": {
        "id": "LxQgyCbaNcdM"
      }
    },
    {
      "cell_type": "code",
      "source": [
        "INPUT_SHAPE=(size,size,3)\n",
        "inp = k.Input(shape=INPUT_SHAPE)\n",
        "conv1 = k.Conv2D(32, kernel_size=(3, 3), activation='relu',padding='same')(inp)\n",
        "pool1 = k.MaxPool2D(pool_size=(2, 2))(conv1)\n",
        "norm1 = k.BatchNormalization(axis=-1)(pool1)\n",
        "drop1=k.Dropout(rate=0.2)(norm1)\n",
        "\n",
        "conv2 = k.Conv2D(32, kernel_size=(3, 3), activation='relu',padding='same')(drop1)\n",
        "pool2 = k.MaxPool2D(pool_size=(2, 2))(conv2)\n",
        "norm2 = k.BatchNormalization(axis=-1)(pool2)\n",
        "drop2=k.Dropout(rate=0.2)(norm2)\n",
        "\n",
        "flat=k.Flatten()(drop2)\n",
        "\n",
        "hidden1=k.Dense(512,activation='relu')(flat)\n",
        "norm3 = k.BatchNormalization(axis=-1)(hidden1)\n",
        "drop3=k.Dropout(rate=0.2)(norm3)\n",
        "\n",
        "hidden2=k.Dense(256,activation='relu')(drop3)\n",
        "norm4 = k.BatchNormalization(axis=-1)(hidden2)\n",
        "drop4=k.Dropout(rate=0.2)(norm4)\n",
        "\n",
        "out=k.Dense(2,activation='sigmoid')(drop4)"
      ],
      "metadata": {
        "id": "CvR-yyRSNaty"
      },
      "execution_count": null,
      "outputs": []
    },
    {
      "cell_type": "code",
      "source": [
        "model=keras.Model(inputs=inp,outputs=out)\n",
        "model.compile(optimizer='adam', loss='categorical_crossentropy', metrics=['accuracy'])\n",
        "print(model.summary())"
      ],
      "metadata": {
        "colab": {
          "base_uri": "https://localhost:8080/"
        },
        "id": "pevRik7hQJJl",
        "outputId": "78912e64-9c00-4279-c7c6-69298e97c2f8"
      },
      "execution_count": null,
      "outputs": [
        {
          "output_type": "stream",
          "name": "stdout",
          "text": [
            "Model: \"model_4\"\n",
            "_________________________________________________________________\n",
            " Layer (type)                Output Shape              Param #   \n",
            "=================================================================\n",
            " input_1 (InputLayer)        [(None, 64, 64, 3)]       0         \n",
            "                                                                 \n",
            " conv2d (Conv2D)             (None, 64, 64, 32)        896       \n",
            "                                                                 \n",
            " max_pooling2d (MaxPooling2  (None, 32, 32, 32)        0         \n",
            " D)                                                              \n",
            "                                                                 \n",
            " batch_normalization (Batch  (None, 32, 32, 32)        128       \n",
            " Normalization)                                                  \n",
            "                                                                 \n",
            " dropout (Dropout)           (None, 32, 32, 32)        0         \n",
            "                                                                 \n",
            " conv2d_1 (Conv2D)           (None, 32, 32, 32)        9248      \n",
            "                                                                 \n",
            " max_pooling2d_1 (MaxPoolin  (None, 16, 16, 32)        0         \n",
            " g2D)                                                            \n",
            "                                                                 \n",
            " batch_normalization_1 (Bat  (None, 16, 16, 32)        128       \n",
            " chNormalization)                                                \n",
            "                                                                 \n",
            " dropout_1 (Dropout)         (None, 16, 16, 32)        0         \n",
            "                                                                 \n",
            " flatten (Flatten)           (None, 8192)              0         \n",
            "                                                                 \n",
            " dense (Dense)               (None, 512)               4194816   \n",
            "                                                                 \n",
            " batch_normalization_2 (Bat  (None, 512)               2048      \n",
            " chNormalization)                                                \n",
            "                                                                 \n",
            " dropout_2 (Dropout)         (None, 512)               0         \n",
            "                                                                 \n",
            " dense_1 (Dense)             (None, 256)               131328    \n",
            "                                                                 \n",
            " batch_normalization_3 (Bat  (None, 256)               1024      \n",
            " chNormalization)                                                \n",
            "                                                                 \n",
            " dropout_3 (Dropout)         (None, 256)               0         \n",
            "                                                                 \n",
            " dense_2 (Dense)             (None, 2)                 514       \n",
            "                                                                 \n",
            "=================================================================\n",
            "Total params: 4340130 (16.56 MB)\n",
            "Trainable params: 4338466 (16.55 MB)\n",
            "Non-trainable params: 1664 (6.50 KB)\n",
            "_________________________________________________________________\n",
            "None\n"
          ]
        }
      ]
    },
    {
      "cell_type": "code",
      "source": [
        "history=model.fit(np.array(xtrain), ytrain, epochs=5, batch_size=64, verbose=1, validation_split=0.1, shuffle=False)"
      ],
      "metadata": {
        "colab": {
          "base_uri": "https://localhost:8080/"
        },
        "id": "WI3xmZ3OnBkA",
        "outputId": "9d3e5f03-e40c-420a-a5a0-8a31ca303a57"
      },
      "execution_count": null,
      "outputs": [
        {
          "output_type": "stream",
          "name": "stdout",
          "text": [
            "Epoch 1/5\n",
            "68/68 [==============================] - 59s 772ms/step - loss: 0.1217 - accuracy: 0.9530 - val_loss: 1.3696 - val_accuracy: 0.7604\n",
            "Epoch 2/5\n",
            "68/68 [==============================] - 54s 797ms/step - loss: 0.0787 - accuracy: 0.9671 - val_loss: 1.2299 - val_accuracy: 0.7875\n",
            "Epoch 3/5\n",
            "68/68 [==============================] - 50s 734ms/step - loss: 0.0693 - accuracy: 0.9761 - val_loss: 1.4426 - val_accuracy: 0.7104\n",
            "Epoch 4/5\n",
            "68/68 [==============================] - 54s 800ms/step - loss: 0.0525 - accuracy: 0.9819 - val_loss: 0.3894 - val_accuracy: 0.8896\n",
            "Epoch 5/5\n",
            "68/68 [==============================] - 53s 785ms/step - loss: 0.0582 - accuracy: 0.9810 - val_loss: 0.4573 - val_accuracy: 0.9021\n"
          ]
        }
      ]
    },
    {
      "cell_type": "code",
      "source": [
        "print(\"Test_accuracy: {:.2f}%\".format(model.evaluate(np.array(xtest), np.array(ytest))[1]*100))"
      ],
      "metadata": {
        "colab": {
          "base_uri": "https://localhost:8080/"
        },
        "id": "LIX2Sg--WJte",
        "outputId": "2f355834-a815-477f-c672-3b8530161095"
      },
      "execution_count": null,
      "outputs": [
        {
          "output_type": "stream",
          "name": "stdout",
          "text": [
            "38/38 [==============================] - 3s 90ms/step - loss: 0.4802 - accuracy: 0.9175\n",
            "Test_accuracy: 91.75%\n"
          ]
        }
      ]
    },
    {
      "cell_type": "code",
      "source": [
        "f, (ax1, ax2) = plt.subplots(1, 2, figsize=(12, 4))\n",
        "t = f.suptitle('CNN Performance', fontsize=12)\n",
        "f.subplots_adjust(top=0.85, wspace=0.3)\n",
        "\n",
        "max_epoch = len(history.history['accuracy'])+1\n",
        "epoch_list = list(range(1, max_epoch))\n",
        "ax1.plot(epoch_list, history.history['accuracy'], label='Train Accuracy')\n",
        "ax1.plot(epoch_list, history.history['val_accuracy'], label='Validation Accuracy')\n",
        "ax1.set_xticks(np.arange(1, max_epoch, 5))\n",
        "ax1.set_ylabel('Accuracy value')\n",
        "ax1.set_xlabel('Epoch')\n",
        "ax1.set_title('Accuracy')\n",
        "l1=ax1.legend(loc=\"best\")\n",
        "\n",
        "ax2.plot(epoch_list, history.history['loss'], label='Train Loss')\n",
        "ax2.plot(epoch_list, history.history['val_loss'], label='Validation Loss')\n",
        "ax2.set_xticks(np.arange(1, max_epoch, 5))\n",
        "ax2.set_ylabel('Loss value')\n",
        "ax2.set_xlabel('Epoch')\n",
        "ax2.set_title('Loss')\n",
        "l2=ax1.legend(loc=\"best\")"
      ],
      "metadata": {
        "colab": {
          "base_uri": "https://localhost:8080/",
          "height": 413
        },
        "id": "KckQntBwXQMP",
        "outputId": "a5e18292-b7dd-49e2-bf65-2510d4be78d6"
      },
      "execution_count": null,
      "outputs": [
        {
          "output_type": "display_data",
          "data": {
            "text/plain": [
              "<Figure size 1200x400 with 2 Axes>"
            ],
            "image/png": "[encoded data removed]"
          },
          "metadata": {}
        }
      ]
    },
    {
      "cell_type": "code",
      "source": [],
      "metadata": {
        "id": "oCJsRTmArnoV"
      },
      "execution_count": null,
      "outputs": []
    }
  ],
  "metadata": {
    "colab": {
      "provenance": []
    },
    "kernelspec": {
      "display_name": "Python 3",
      "name": "python3"
    },
    "language_info": {
      "name": "python"
    },
    "widgets": {
      "application/vnd.jupyter.widget-state+json": {
        "fc6073d4ddbf426390a1e11d0678ef03": {
          "model_module": "@jupyter-widgets/controls",
          "model_name": "HBoxModel",
          "model_module_version": "1.5.0",
          "state": {
            "_dom_classes": [],
            "_model_module": "@jupyter-widgets/controls",
            "_model_module_version": "1.5.0",
            "_model_name": "HBoxModel",
            "_view_count": null,
            "_view_module": "@jupyter-widgets/controls",
            "_view_module_version": "1.5.0",
            "_view_name": "HBoxView",
            "box_style": "",
            "children": [
              "IPY_MODEL_52b50daba2dc42a2a5edcb04641dbb0a",
              "IPY_MODEL_d1f0b5c9cb3343c6857aa120788b5d48",
              "IPY_MODEL_88a137699e61469c8c20e2d871f902fa"
            ],
            "layout": "IPY_MODEL_754013d6b6d444ec9ee3f62447bb4955"
          }
        },
        "52b50daba2dc42a2a5edcb04641dbb0a": {
          "model_module": "@jupyter-widgets/controls",
          "model_name": "HTMLModel",
          "model_module_version": "1.5.0",
          "state": {
            "_dom_classes": [],
            "_model_module": "@jupyter-widgets/controls",
            "_model_module_version": "1.5.0",
            "_model_name": "HTMLModel",
            "_view_count": null,
            "_view_module": "@jupyter-widgets/controls",
            "_view_module_version": "1.5.0",
            "_view_name": "HTMLView",
            "description": "",
            "description_tooltip": null,
            "layout": "IPY_MODEL_2c75461c3fd84e0d9139f70b37af80f5",
            "placeholder": "​",
            "style": "IPY_MODEL_995169189ca8441794d3ed238221f6cb",
            "value": "100%"
          }
        },
        "d1f0b5c9cb3343c6857aa120788b5d48": {
          "model_module": "@jupyter-widgets/controls",
          "model_name": "FloatProgressModel",
          "model_module_version": "1.5.0",
          "state": {
            "_dom_classes": [],
            "_model_module": "@jupyter-widgets/controls",
            "_model_module_version": "1.5.0",
            "_model_name": "FloatProgressModel",
            "_view_count": null,
            "_view_module": "@jupyter-widgets/controls",
            "_view_module_version": "1.5.0",
            "_view_name": "ProgressView",
            "bar_style": "success",
            "description": "",
            "description_tooltip": null,
            "layout": "IPY_MODEL_f9b910b63b4b4725873ce1bf0c5d1df8",
            "max": 3000,
            "min": 0,
            "orientation": "horizontal",
            "style": "IPY_MODEL_3bc6afdfbe6948719f42e951267e1d71",
            "value": 3000
          }
        },
        "88a137699e61469c8c20e2d871f902fa": {
          "model_module": "@jupyter-widgets/controls",
          "model_name": "HTMLModel",
          "model_module_version": "1.5.0",
          "state": {
            "_dom_classes": [],
            "_model_module": "@jupyter-widgets/controls",
            "_model_module_version": "1.5.0",
            "_model_name": "HTMLModel",
            "_view_count": null,
            "_view_module": "@jupyter-widgets/controls",
            "_view_module_version": "1.5.0",
            "_view_name": "HTMLView",
            "description": "",
            "description_tooltip": null,
            "layout": "IPY_MODEL_ea120095e7a449559197ee5ec26d7b43",
            "placeholder": "​",
            "style": "IPY_MODEL_22765f7b227e4b16a0a0d9620e61948a",
            "value": " 3000/3000 [06:53&lt;00:00, 92.08it/s]"
          }
        },
        "754013d6b6d444ec9ee3f62447bb4955": {
          "model_module": "@jupyter-widgets/base",
          "model_name": "LayoutModel",
          "model_module_version": "1.2.0",
          "state": {
            "_model_module": "@jupyter-widgets/base",
            "_model_module_version": "1.2.0",
            "_model_name": "LayoutModel",
            "_view_count": null,
            "_view_module": "@jupyter-widgets/base",
            "_view_module_version": "1.2.0",
            "_view_name": "LayoutView",
            "align_content": null,
            "align_items": null,
            "align_self": null,
            "border": null,
            "bottom": null,
            "display": null,
            "flex": null,
            "flex_flow": null,
            "grid_area": null,
            "grid_auto_columns": null,
            "grid_auto_flow": null,
            "grid_auto_rows": null,
            "grid_column": null,
            "grid_gap": null,
            "grid_row": null,
            "grid_template_areas": null,
            "grid_template_columns": null,
            "grid_template_rows": null,
            "height": null,
            "justify_content": null,
            "justify_items": null,
            "left": null,
            "margin": null,
            "max_height": null,
            "max_width": null,
            "min_height": null,
            "min_width": null,
            "object_fit": null,
            "object_position": null,
            "order": null,
            "overflow": null,
            "overflow_x": null,
            "overflow_y": null,
            "padding": null,
            "right": null,
            "top": null,
            "visibility": null,
            "width": null
          }
        },
        "2c75461c3fd84e0d9139f70b37af80f5": {
          "model_module": "@jupyter-widgets/base",
          "model_name": "LayoutModel",
          "model_module_version": "1.2.0",
          "state": {
            "_model_module": "@jupyter-widgets/base",
            "_model_module_version": "1.2.0",
            "_model_name": "LayoutModel",
            "_view_count": null,
            "_view_module": "@jupyter-widgets/base",
            "_view_module_version": "1.2.0",
            "_view_name": "LayoutView",
            "align_content": null,
            "align_items": null,
            "align_self": null,
            "border": null,
            "bottom": null,
            "display": null,
            "flex": null,
            "flex_flow": null,
            "grid_area": null,
            "grid_auto_columns": null,
            "grid_auto_flow": null,
            "grid_auto_rows": null,
            "grid_column": null,
            "grid_gap": null,
            "grid_row": null,
            "grid_template_areas": null,
            "grid_template_columns": null,
            "grid_template_rows": null,
            "height": null,
            "justify_content": null,
            "justify_items": null,
            "left": null,
            "margin": null,
            "max_height": null,
            "max_width": null,
            "min_height": null,
            "min_width": null,
            "object_fit": null,
            "object_position": null,
            "order": null,
            "overflow": null,
            "overflow_x": null,
            "overflow_y": null,
            "padding": null,
            "right": null,
            "top": null,
            "visibility": null,
            "width": null
          }
        },
        "995169189ca8441794d3ed238221f6cb": {
          "model_module": "@jupyter-widgets/controls",
          "model_name": "DescriptionStyleModel",
          "model_module_version": "1.5.0",
          "state": {
            "_model_module": "@jupyter-widgets/controls",
            "_model_module_version": "1.5.0",
            "_model_name": "DescriptionStyleModel",
            "_view_count": null,
            "_view_module": "@jupyter-widgets/base",
            "_view_module_version": "1.2.0",
            "_view_name": "StyleView",
            "description_width": ""
          }
        },
        "f9b910b63b4b4725873ce1bf0c5d1df8": {
          "model_module": "@jupyter-widgets/base",
          "model_name": "LayoutModel",
          "model_module_version": "1.2.0",
          "state": {
            "_model_module": "@jupyter-widgets/base",
            "_model_module_version": "1.2.0",
            "_model_name": "LayoutModel",
            "_view_count": null,
            "_view_module": "@jupyter-widgets/base",
            "_view_module_version": "1.2.0",
            "_view_name": "LayoutView",
            "align_content": null,
            "align_items": null,
            "align_self": null,
            "border": null,
            "bottom": null,
            "display": null,
            "flex": null,
            "flex_flow": null,
            "grid_area": null,
            "grid_auto_columns": null,
            "grid_auto_flow": null,
            "grid_auto_rows": null,
            "grid_column": null,
            "grid_gap": null,
            "grid_row": null,
            "grid_template_areas": null,
            "grid_template_columns": null,
            "grid_template_rows": null,
            "height": null,
            "justify_content": null,
            "justify_items": null,
            "left": null,
            "margin": null,
            "max_height": null,
            "max_width": null,
            "min_height": null,
            "min_width": null,
            "object_fit": null,
            "object_position": null,
            "order": null,
            "overflow": null,
            "overflow_x": null,
            "overflow_y": null,
            "padding": null,
            "right": null,
            "top": null,
            "visibility": null,
            "width": null
          }
        },
        "3bc6afdfbe6948719f42e951267e1d71": {
          "model_module": "@jupyter-widgets/controls",
          "model_name": "ProgressStyleModel",
          "model_module_version": "1.5.0",
          "state": {
            "_model_module": "@jupyter-widgets/controls",
            "_model_module_version": "1.5.0",
            "_model_name": "ProgressStyleModel",
            "_view_count": null,
            "_view_module": "@jupyter-widgets/base",
            "_view_module_version": "1.2.0",
            "_view_name": "StyleView",
            "bar_color": null,
            "description_width": ""
          }
        },
        "ea120095e7a449559197ee5ec26d7b43": {
          "model_module": "@jupyter-widgets/base",
          "model_name": "LayoutModel",
          "model_module_version": "1.2.0",
          "state": {
            "_model_module": "@jupyter-widgets/base",
            "_model_module_version": "1.2.0",
            "_model_name": "LayoutModel",
            "_view_count": null,
            "_view_module": "@jupyter-widgets/base",
            "_view_module_version": "1.2.0",
            "_view_name": "LayoutView",
            "align_content": null,
            "align_items": null,
            "align_self": null,
            "border": null,
            "bottom": null,
            "display": null,
            "flex": null,
            "flex_flow": null,
            "grid_area": null,
            "grid_auto_columns": null,
            "grid_auto_flow": null,
            "grid_auto_rows": null,
            "grid_column": null,
            "grid_gap": null,
            "grid_row": null,
            "grid_template_areas": null,
            "grid_template_columns": null,
            "grid_template_rows": null,
            "height": null,
            "justify_content": null,
            "justify_items": null,
            "left": null,
            "margin": null,
            "max_height": null,
            "max_width": null,
            "min_height": null,
            "min_width": null,
            "object_fit": null,
            "object_position": null,
            "order": null,
            "overflow": null,
            "overflow_x": null,
            "overflow_y": null,
            "padding": null,
            "right": null,
            "top": null,
            "visibility": null,
            "width": null
          }
        },
        "22765f7b227e4b16a0a0d9620e61948a": {
          "model_module": "@jupyter-widgets/controls",
          "model_name": "DescriptionStyleModel",
          "model_module_version": "1.5.0",
          "state": {
            "_model_module": "@jupyter-widgets/controls",
            "_model_module_version": "1.5.0",
            "_model_name": "DescriptionStyleModel",
            "_view_count": null,
            "_view_module": "@jupyter-widgets/base",
            "_view_module_version": "1.2.0",
            "_view_name": "StyleView",
            "description_width": ""
          }
        },
        "e0982164b12e44e3982a0f6ddebbf0ab": {
          "model_module": "@jupyter-widgets/controls",
          "model_name": "HBoxModel",
          "model_module_version": "1.5.0",
          "state": {
            "_dom_classes": [],
            "_model_module": "@jupyter-widgets/controls",
            "_model_module_version": "1.5.0",
            "_model_name": "HBoxModel",
            "_view_count": null,
            "_view_module": "@jupyter-widgets/controls",
            "_view_module_version": "1.5.0",
            "_view_name": "HBoxView",
            "box_style": "",
            "children": [
              "IPY_MODEL_18dae18a891a47c8bd27b5543b166337",
              "IPY_MODEL_454352550f4a4c6c93e9ed1bf1b499b2",
              "IPY_MODEL_db4cd0c458a54883bf796fecd534bb49"
            ],
            "layout": "IPY_MODEL_446350d2709c4188a09a9105a60e4870"
          }
        },
        "18dae18a891a47c8bd27b5543b166337": {
          "model_module": "@jupyter-widgets/controls",
          "model_name": "HTMLModel",
          "model_module_version": "1.5.0",
          "state": {
            "_dom_classes": [],
            "_model_module": "@jupyter-widgets/controls",
            "_model_module_version": "1.5.0",
            "_model_name": "HTMLModel",
            "_view_count": null,
            "_view_module": "@jupyter-widgets/controls",
            "_view_module_version": "1.5.0",
            "_view_name": "HTMLView",
            "description": "",
            "description_tooltip": null,
            "layout": "IPY_MODEL_0f688bc4c1da4e1b806dd16e905745c0",
            "placeholder": "​",
            "style": "IPY_MODEL_374b0e8a061240deaf8a25f0059c9d6c",
            "value": "100%"
          }
        },
        "454352550f4a4c6c93e9ed1bf1b499b2": {
          "model_module": "@jupyter-widgets/controls",
          "model_name": "FloatProgressModel",
          "model_module_version": "1.5.0",
          "state": {
            "_dom_classes": [],
            "_model_module": "@jupyter-widgets/controls",
            "_model_module_version": "1.5.0",
            "_model_name": "FloatProgressModel",
            "_view_count": null,
            "_view_module": "@jupyter-widgets/controls",
            "_view_module_version": "1.5.0",
            "_view_name": "ProgressView",
            "bar_style": "success",
            "description": "",
            "description_tooltip": null,
            "layout": "IPY_MODEL_d4b3324194d14e38abf17fc250149909",
            "max": 3000,
            "min": 0,
            "orientation": "horizontal",
            "style": "IPY_MODEL_7eba85fd957a433dac8a6e60b38b4621",
            "value": 3000
          }
        },
        "db4cd0c458a54883bf796fecd534bb49": {
          "model_module": "@jupyter-widgets/controls",
          "model_name": "HTMLModel",
          "model_module_version": "1.5.0",
          "state": {
            "_dom_classes": [],
            "_model_module": "@jupyter-widgets/controls",
            "_model_module_version": "1.5.0",
            "_model_name": "HTMLModel",
            "_view_count": null,
            "_view_module": "@jupyter-widgets/controls",
            "_view_module_version": "1.5.0",
            "_view_name": "HTMLView",
            "description": "",
            "description_tooltip": null,
            "layout": "IPY_MODEL_b4efe21f3e0544d8b7a6ec4ae10fa818",
            "placeholder": "​",
            "style": "IPY_MODEL_99e601b115524ec690cee0965c215d8c",
            "value": " 3000/3000 [03:30&lt;00:00, 83.27it/s]"
          }
        },
        "446350d2709c4188a09a9105a60e4870": {
          "model_module": "@jupyter-widgets/base",
          "model_name": "LayoutModel",
          "model_module_version": "1.2.0",
          "state": {
            "_model_module": "@jupyter-widgets/base",
            "_model_module_version": "1.2.0",
            "_model_name": "LayoutModel",
            "_view_count": null,
            "_view_module": "@jupyter-widgets/base",
            "_view_module_version": "1.2.0",
            "_view_name": "LayoutView",
            "align_content": null,
            "align_items": null,
            "align_self": null,
            "border": null,
            "bottom": null,
            "display": null,
            "flex": null,
            "flex_flow": null,
            "grid_area": null,
            "grid_auto_columns": null,
            "grid_auto_flow": null,
            "grid_auto_rows": null,
            "grid_column": null,
            "grid_gap": null,
            "grid_row": null,
            "grid_template_areas": null,
            "grid_template_columns": null,
            "grid_template_rows": null,
            "height": null,
            "justify_content": null,
            "justify_items": null,
            "left": null,
            "margin": null,
            "max_height": null,
            "max_width": null,
            "min_height": null,
            "min_width": null,
            "object_fit": null,
            "object_position": null,
            "order": null,
            "overflow": null,
            "overflow_x": null,
            "overflow_y": null,
            "padding": null,
            "right": null,
            "top": null,
            "visibility": null,
            "width": null
          }
        },
        "0f688bc4c1da4e1b806dd16e905745c0": {
          "model_module": "@jupyter-widgets/base",
          "model_name": "LayoutModel",
          "model_module_version": "1.2.0",
          "state": {
            "_model_module": "@jupyter-widgets/base",
            "_model_module_version": "1.2.0",
            "_model_name": "LayoutModel",
            "_view_count": null,
            "_view_module": "@jupyter-widgets/base",
            "_view_module_version": "1.2.0",
            "_view_name": "LayoutView",
            "align_content": null,
            "align_items": null,
            "align_self": null,
            "border": null,
            "bottom": null,
            "display": null,
            "flex": null,
            "flex_flow": null,
            "grid_area": null,
            "grid_auto_columns": null,
            "grid_auto_flow": null,
            "grid_auto_rows": null,
            "grid_column": null,
            "grid_gap": null,
            "grid_row": null,
            "grid_template_areas": null,
            "grid_template_columns": null,
            "grid_template_rows": null,
            "height": null,
            "justify_content": null,
            "justify_items": null,
            "left": null,
            "margin": null,
            "max_height": null,
            "max_width": null,
            "min_height": null,
            "min_width": null,
            "object_fit": null,
            "object_position": null,
            "order": null,
            "overflow": null,
            "overflow_x": null,
            "overflow_y": null,
            "padding": null,
            "right": null,
            "top": null,
            "visibility": null,
            "width": null
          }
        },
        "374b0e8a061240deaf8a25f0059c9d6c": {
          "model_module": "@jupyter-widgets/controls",
          "model_name": "DescriptionStyleModel",
          "model_module_version": "1.5.0",
          "state": {
            "_model_module": "@jupyter-widgets/controls",
            "_model_module_version": "1.5.0",
            "_model_name": "DescriptionStyleModel",
            "_view_count": null,
            "_view_module": "@jupyter-widgets/base",
            "_view_module_version": "1.2.0",
            "_view_name": "StyleView",
            "description_width": ""
          }
        },
        "d4b3324194d14e38abf17fc250149909": {
          "model_module": "@jupyter-widgets/base",
          "model_name": "LayoutModel",
          "model_module_version": "1.2.0",
          "state": {
            "_model_module": "@jupyter-widgets/base",
            "_model_module_version": "1.2.0",
            "_model_name": "LayoutModel",
            "_view_count": null,
            "_view_module": "@jupyter-widgets/base",
            "_view_module_version": "1.2.0",
            "_view_name": "LayoutView",
            "align_content": null,
            "align_items": null,
            "align_self": null,
            "border": null,
            "bottom": null,
            "display": null,
            "flex": null,
            "flex_flow": null,
            "grid_area": null,
            "grid_auto_columns": null,
            "grid_auto_flow": null,
            "grid_auto_rows": null,
            "grid_column": null,
            "grid_gap": null,
            "grid_row": null,
            "grid_template_areas": null,
            "grid_template_columns": null,
            "grid_template_rows": null,
            "height": null,
            "justify_content": null,
            "justify_items": null,
            "left": null,
            "margin": null,
            "max_height": null,
            "max_width": null,
            "min_height": null,
            "min_width": null,
            "object_fit": null,
            "object_position": null,
            "order": null,
            "overflow": null,
            "overflow_x": null,
            "overflow_y": null,
            "padding": null,
            "right": null,
            "top": null,
            "visibility": null,
            "width": null
          }
        },
        "7eba85fd957a433dac8a6e60b38b4621": {
          "model_module": "@jupyter-widgets/controls",
          "model_name": "ProgressStyleModel",
          "model_module_version": "1.5.0",
          "state": {
            "_model_module": "@jupyter-widgets/controls",
            "_model_module_version": "1.5.0",
            "_model_name": "ProgressStyleModel",
            "_view_count": null,
            "_view_module": "@jupyter-widgets/base",
            "_view_module_version": "1.2.0",
            "_view_name": "StyleView",
            "bar_color": null,
            "description_width": ""
          }
        },
        "b4efe21f3e0544d8b7a6ec4ae10fa818": {
          "model_module": "@jupyter-widgets/base",
          "model_name": "LayoutModel",
          "model_module_version": "1.2.0",
          "state": {
            "_model_module": "@jupyter-widgets/base",
            "_model_module_version": "1.2.0",
            "_model_name": "LayoutModel",
            "_view_count": null,
            "_view_module": "@jupyter-widgets/base",
            "_view_module_version": "1.2.0",
            "_view_name": "LayoutView",
            "align_content": null,
            "align_items": null,
            "align_self": null,
            "border": null,
            "bottom": null,
            "display": null,
            "flex": null,
            "flex_flow": null,
            "grid_area": null,
            "grid_auto_columns": null,
            "grid_auto_flow": null,
            "grid_auto_rows": null,
            "grid_column": null,
            "grid_gap": null,
            "grid_row": null,
            "grid_template_areas": null,
            "grid_template_columns": null,
            "grid_template_rows": null,
            "height": null,
            "justify_content": null,
            "justify_items": null,
            "left": null,
            "margin": null,
            "max_height": null,
            "max_width": null,
            "min_height": null,
            "min_width": null,
            "object_fit": null,
            "object_position": null,
            "order": null,
            "overflow": null,
            "overflow_x": null,
            "overflow_y": null,
            "padding": null,
            "right": null,
            "top": null,
            "visibility": null,
            "width": null
          }
        },
        "99e601b115524ec690cee0965c215d8c": {
          "model_module": "@jupyter-widgets/controls",
          "model_name": "DescriptionStyleModel",
          "model_module_version": "1.5.0",
          "state": {
            "_model_module": "@jupyter-widgets/controls",
            "_model_module_version": "1.5.0",
            "_model_name": "DescriptionStyleModel",
            "_view_count": null,
            "_view_module": "@jupyter-widgets/base",
            "_view_module_version": "1.2.0",
            "_view_name": "StyleView",
            "description_width": ""
          }
        }
      }
    }
  },
  "nbformat": 4,
  "nbformat_minor": 0
}